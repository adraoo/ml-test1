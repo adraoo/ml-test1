{
  "nbformat": 4,
  "nbformat_minor": 0,
  "metadata": {
    "colab": {
      "name": "dinghy-infering.ipynb",
      "provenance": [],
      "collapsed_sections": [],
      "authorship_tag": "ABX9TyP3niPh9GgQYYCm0VQiTCvO",
      "include_colab_link": true
    },
    "kernelspec": {
      "name": "python3",
      "display_name": "Python 3"
    },
    "widgets": {
      "application/vnd.jupyter.widget-state+json": {
        "330bf98ff92041a8ac05696a6aec69fd": {
          "model_module": "@jupyter-widgets/controls",
          "model_name": "VBoxModel",
          "state": {
            "_view_name": "VBoxView",
            "_dom_classes": [],
            "_model_name": "VBoxModel",
            "_view_module": "@jupyter-widgets/controls",
            "_model_module_version": "1.5.0",
            "_view_count": null,
            "_view_module_version": "1.5.0",
            "box_style": "",
            "layout": "IPY_MODEL_a75032954400495ea7ddc29b53edb481",
            "_model_module": "@jupyter-widgets/controls",
            "children": [
              "IPY_MODEL_ad1cdd8c09894f38b868151070c47745",
              "IPY_MODEL_2aca172bd7db453e897a6366eefeeddc",
              "IPY_MODEL_e9720ff1a949478ea0e4df08a4ba33c6",
              "IPY_MODEL_81ba5b09df4d4544be60eef21e444eea",
              "IPY_MODEL_0ea0cdc8243f47908552c6359060bfcd"
            ]
          }
        },
        "a75032954400495ea7ddc29b53edb481": {
          "model_module": "@jupyter-widgets/base",
          "model_name": "LayoutModel",
          "state": {
            "_view_name": "LayoutView",
            "grid_template_rows": null,
            "right": null,
            "justify_content": null,
            "_view_module": "@jupyter-widgets/base",
            "overflow": null,
            "_model_module_version": "1.2.0",
            "_view_count": null,
            "flex_flow": null,
            "width": null,
            "min_width": null,
            "border": null,
            "align_items": null,
            "bottom": null,
            "_model_module": "@jupyter-widgets/base",
            "top": null,
            "grid_column": null,
            "overflow_y": null,
            "overflow_x": null,
            "grid_auto_flow": null,
            "grid_area": null,
            "grid_template_columns": null,
            "flex": null,
            "_model_name": "LayoutModel",
            "justify_items": null,
            "grid_row": null,
            "max_height": null,
            "align_content": null,
            "visibility": null,
            "align_self": null,
            "height": null,
            "min_height": null,
            "padding": null,
            "grid_auto_rows": null,
            "grid_gap": null,
            "max_width": null,
            "order": null,
            "_view_module_version": "1.2.0",
            "grid_template_areas": null,
            "object_position": null,
            "object_fit": null,
            "grid_auto_columns": null,
            "margin": null,
            "display": null,
            "left": null
          }
        },
        "ad1cdd8c09894f38b868151070c47745": {
          "model_module": "@jupyter-widgets/controls",
          "model_name": "LabelModel",
          "state": {
            "_view_name": "LabelView",
            "style": "IPY_MODEL_e2d123d666aa450e979600f87af5c3dc",
            "_dom_classes": [],
            "description": "",
            "_model_name": "LabelModel",
            "placeholder": "​",
            "_view_module": "@jupyter-widgets/controls",
            "_model_module_version": "1.5.0",
            "value": "Select your dinghy",
            "_view_count": null,
            "_view_module_version": "1.5.0",
            "description_tooltip": null,
            "_model_module": "@jupyter-widgets/controls",
            "layout": "IPY_MODEL_e7cd0bff76574d48abc39f04dd760b28"
          }
        },
        "2aca172bd7db453e897a6366eefeeddc": {
          "model_module": "@jupyter-widgets/controls",
          "model_name": "FileUploadModel",
          "state": {
            "_view_name": "FileUploadView",
            "_counter": 1,
            "style": "IPY_MODEL_70e00ed5970749fe824b6def47bcd9d6",
            "_dom_classes": [],
            "description": "Upload",
            "multiple": false,
            "_model_name": "FileUploadModel",
            "data": [
              null
            ],
            "button_style": "",
            "_view_module": "@jupyter-widgets/controls",
            "_model_module_version": "1.5.0",
            "accept": "",
            "_view_count": null,
            "disabled": false,
            "_view_module_version": "1.5.0",
            "error": "",
            "description_tooltip": null,
            "metadata": [
              {
                "name": "355125.jpg",
                "type": "image/jpeg",
                "size": 26976,
                "lastModified": 1609162904002
              }
            ],
            "_model_module": "@jupyter-widgets/controls",
            "layout": "IPY_MODEL_d3963d6b08944e758d946510fab8088a",
            "icon": "upload"
          }
        },
        "e9720ff1a949478ea0e4df08a4ba33c6": {
          "model_module": "@jupyter-widgets/controls",
          "model_name": "ButtonModel",
          "state": {
            "_view_name": "ButtonView",
            "style": "IPY_MODEL_3f1cf744430e4ec4b1140084b93d4d1f",
            "_dom_classes": [],
            "description": "Classify",
            "_model_name": "ButtonModel",
            "button_style": "",
            "_view_module": "@jupyter-widgets/controls",
            "_model_module_version": "1.5.0",
            "tooltip": "",
            "_view_count": null,
            "disabled": false,
            "_view_module_version": "1.5.0",
            "layout": "IPY_MODEL_7b716aad9d574995b34c91bbe93935d5",
            "_model_module": "@jupyter-widgets/controls",
            "icon": ""
          }
        },
        "81ba5b09df4d4544be60eef21e444eea": {
          "model_module": "@jupyter-widgets/output",
          "model_name": "OutputModel",
          "state": {
            "_view_name": "OutputView",
            "msg_id": "",
            "_dom_classes": [],
            "_model_name": "OutputModel",
            "outputs": [
              {
                "output_type": "display_data",
                "metadata": {
                  "tags": []
                },
                "image/png": "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\n",
                "text/plain": "<PIL.Image.Image image mode=RGB size=256x171 at 0x7FE932B788D0>"
              }
            ],
            "_view_module": "@jupyter-widgets/output",
            "_model_module_version": "1.0.0",
            "_view_count": null,
            "_view_module_version": "1.0.0",
            "layout": "IPY_MODEL_fa7c3dd8dc5843b9b04a528b502712ed",
            "_model_module": "@jupyter-widgets/output"
          }
        },
        "0ea0cdc8243f47908552c6359060bfcd": {
          "model_module": "@jupyter-widgets/controls",
          "model_name": "LabelModel",
          "state": {
            "_view_name": "LabelView",
            "style": "IPY_MODEL_b593dc82f26b49f3be89909a8fffc8d9",
            "_dom_classes": [],
            "description": "",
            "_model_name": "LabelModel",
            "placeholder": "​",
            "_view_module": "@jupyter-widgets/controls",
            "_model_module_version": "1.5.0",
            "value": "Prediction: RS500; Probability: 0.984",
            "_view_count": null,
            "_view_module_version": "1.5.0",
            "description_tooltip": null,
            "_model_module": "@jupyter-widgets/controls",
            "layout": "IPY_MODEL_817b9a0a66b4447c8d7eb7dcd7dfda8b"
          }
        },
        "e2d123d666aa450e979600f87af5c3dc": {
          "model_module": "@jupyter-widgets/controls",
          "model_name": "DescriptionStyleModel",
          "state": {
            "_view_name": "StyleView",
            "_model_name": "DescriptionStyleModel",
            "description_width": "",
            "_view_module": "@jupyter-widgets/base",
            "_model_module_version": "1.5.0",
            "_view_count": null,
            "_view_module_version": "1.2.0",
            "_model_module": "@jupyter-widgets/controls"
          }
        },
        "e7cd0bff76574d48abc39f04dd760b28": {
          "model_module": "@jupyter-widgets/base",
          "model_name": "LayoutModel",
          "state": {
            "_view_name": "LayoutView",
            "grid_template_rows": null,
            "right": null,
            "justify_content": null,
            "_view_module": "@jupyter-widgets/base",
            "overflow": null,
            "_model_module_version": "1.2.0",
            "_view_count": null,
            "flex_flow": null,
            "width": null,
            "min_width": null,
            "border": null,
            "align_items": null,
            "bottom": null,
            "_model_module": "@jupyter-widgets/base",
            "top": null,
            "grid_column": null,
            "overflow_y": null,
            "overflow_x": null,
            "grid_auto_flow": null,
            "grid_area": null,
            "grid_template_columns": null,
            "flex": null,
            "_model_name": "LayoutModel",
            "justify_items": null,
            "grid_row": null,
            "max_height": null,
            "align_content": null,
            "visibility": null,
            "align_self": null,
            "height": null,
            "min_height": null,
            "padding": null,
            "grid_auto_rows": null,
            "grid_gap": null,
            "max_width": null,
            "order": null,
            "_view_module_version": "1.2.0",
            "grid_template_areas": null,
            "object_position": null,
            "object_fit": null,
            "grid_auto_columns": null,
            "margin": null,
            "display": null,
            "left": null
          }
        },
        "70e00ed5970749fe824b6def47bcd9d6": {
          "model_module": "@jupyter-widgets/controls",
          "model_name": "ButtonStyleModel",
          "state": {
            "_view_name": "StyleView",
            "_model_name": "ButtonStyleModel",
            "_view_module": "@jupyter-widgets/base",
            "_model_module_version": "1.5.0",
            "_view_count": null,
            "button_color": null,
            "font_weight": "",
            "_view_module_version": "1.2.0",
            "_model_module": "@jupyter-widgets/controls"
          }
        },
        "d3963d6b08944e758d946510fab8088a": {
          "model_module": "@jupyter-widgets/base",
          "model_name": "LayoutModel",
          "state": {
            "_view_name": "LayoutView",
            "grid_template_rows": null,
            "right": null,
            "justify_content": null,
            "_view_module": "@jupyter-widgets/base",
            "overflow": null,
            "_model_module_version": "1.2.0",
            "_view_count": null,
            "flex_flow": null,
            "width": null,
            "min_width": null,
            "border": null,
            "align_items": null,
            "bottom": null,
            "_model_module": "@jupyter-widgets/base",
            "top": null,
            "grid_column": null,
            "overflow_y": null,
            "overflow_x": null,
            "grid_auto_flow": null,
            "grid_area": null,
            "grid_template_columns": null,
            "flex": null,
            "_model_name": "LayoutModel",
            "justify_items": null,
            "grid_row": null,
            "max_height": null,
            "align_content": null,
            "visibility": null,
            "align_self": null,
            "height": null,
            "min_height": null,
            "padding": null,
            "grid_auto_rows": null,
            "grid_gap": null,
            "max_width": null,
            "order": null,
            "_view_module_version": "1.2.0",
            "grid_template_areas": null,
            "object_position": null,
            "object_fit": null,
            "grid_auto_columns": null,
            "margin": null,
            "display": null,
            "left": null
          }
        },
        "3f1cf744430e4ec4b1140084b93d4d1f": {
          "model_module": "@jupyter-widgets/controls",
          "model_name": "ButtonStyleModel",
          "state": {
            "_view_name": "StyleView",
            "_model_name": "ButtonStyleModel",
            "_view_module": "@jupyter-widgets/base",
            "_model_module_version": "1.5.0",
            "_view_count": null,
            "button_color": null,
            "font_weight": "",
            "_view_module_version": "1.2.0",
            "_model_module": "@jupyter-widgets/controls"
          }
        },
        "7b716aad9d574995b34c91bbe93935d5": {
          "model_module": "@jupyter-widgets/base",
          "model_name": "LayoutModel",
          "state": {
            "_view_name": "LayoutView",
            "grid_template_rows": null,
            "right": null,
            "justify_content": null,
            "_view_module": "@jupyter-widgets/base",
            "overflow": null,
            "_model_module_version": "1.2.0",
            "_view_count": null,
            "flex_flow": null,
            "width": null,
            "min_width": null,
            "border": null,
            "align_items": null,
            "bottom": null,
            "_model_module": "@jupyter-widgets/base",
            "top": null,
            "grid_column": null,
            "overflow_y": null,
            "overflow_x": null,
            "grid_auto_flow": null,
            "grid_area": null,
            "grid_template_columns": null,
            "flex": null,
            "_model_name": "LayoutModel",
            "justify_items": null,
            "grid_row": null,
            "max_height": null,
            "align_content": null,
            "visibility": null,
            "align_self": null,
            "height": null,
            "min_height": null,
            "padding": null,
            "grid_auto_rows": null,
            "grid_gap": null,
            "max_width": null,
            "order": null,
            "_view_module_version": "1.2.0",
            "grid_template_areas": null,
            "object_position": null,
            "object_fit": null,
            "grid_auto_columns": null,
            "margin": null,
            "display": null,
            "left": null
          }
        },
        "b593dc82f26b49f3be89909a8fffc8d9": {
          "model_module": "@jupyter-widgets/controls",
          "model_name": "DescriptionStyleModel",
          "state": {
            "_view_name": "StyleView",
            "_model_name": "DescriptionStyleModel",
            "description_width": "",
            "_view_module": "@jupyter-widgets/base",
            "_model_module_version": "1.5.0",
            "_view_count": null,
            "_view_module_version": "1.2.0",
            "_model_module": "@jupyter-widgets/controls"
          }
        },
        "817b9a0a66b4447c8d7eb7dcd7dfda8b": {
          "model_module": "@jupyter-widgets/base",
          "model_name": "LayoutModel",
          "state": {
            "_view_name": "LayoutView",
            "grid_template_rows": null,
            "right": null,
            "justify_content": null,
            "_view_module": "@jupyter-widgets/base",
            "overflow": null,
            "_model_module_version": "1.2.0",
            "_view_count": null,
            "flex_flow": null,
            "width": null,
            "min_width": null,
            "border": null,
            "align_items": null,
            "bottom": null,
            "_model_module": "@jupyter-widgets/base",
            "top": null,
            "grid_column": null,
            "overflow_y": null,
            "overflow_x": null,
            "grid_auto_flow": null,
            "grid_area": null,
            "grid_template_columns": null,
            "flex": null,
            "_model_name": "LayoutModel",
            "justify_items": null,
            "grid_row": null,
            "max_height": null,
            "align_content": null,
            "visibility": null,
            "align_self": null,
            "height": null,
            "min_height": null,
            "padding": null,
            "grid_auto_rows": null,
            "grid_gap": null,
            "max_width": null,
            "order": null,
            "_view_module_version": "1.2.0",
            "grid_template_areas": null,
            "object_position": null,
            "object_fit": null,
            "grid_auto_columns": null,
            "margin": null,
            "display": null,
            "left": null
          }
        },
        "fa7c3dd8dc5843b9b04a528b502712ed": {
          "model_module": "@jupyter-widgets/base",
          "model_name": "LayoutModel",
          "state": {
            "_view_name": "LayoutView",
            "grid_template_rows": null,
            "right": null,
            "justify_content": null,
            "_view_module": "@jupyter-widgets/base",
            "overflow": null,
            "_model_module_version": "1.2.0",
            "_view_count": null,
            "flex_flow": null,
            "width": null,
            "min_width": null,
            "border": null,
            "align_items": null,
            "bottom": null,
            "_model_module": "@jupyter-widgets/base",
            "top": null,
            "grid_column": null,
            "overflow_y": null,
            "overflow_x": null,
            "grid_auto_flow": null,
            "grid_area": null,
            "grid_template_columns": null,
            "flex": null,
            "_model_name": "LayoutModel",
            "justify_items": null,
            "grid_row": null,
            "max_height": null,
            "align_content": null,
            "visibility": null,
            "align_self": null,
            "height": null,
            "min_height": null,
            "padding": null,
            "grid_auto_rows": null,
            "grid_gap": null,
            "max_width": null,
            "order": null,
            "_view_module_version": "1.2.0",
            "grid_template_areas": null,
            "object_position": null,
            "object_fit": null,
            "grid_auto_columns": null,
            "margin": null,
            "display": null,
            "left": null
          }
        }
      }
    }
  },
  "cells": [
    {
      "cell_type": "markdown",
      "metadata": {
        "id": "view-in-github",
        "colab_type": "text"
      },
      "source": [
        "<a href=\"https://colab.research.google.com/github/adraoo/ml-test1/blob/main/dinghy_infering.ipynb\" target=\"_parent\"><img src=\"https://colab.research.google.com/assets/colab-badge.svg\" alt=\"Open In Colab\"/></a>"
      ]
    },
    {
      "cell_type": "code",
      "metadata": {
        "colab": {
          "base_uri": "https://localhost:8080/"
        },
        "id": "8YbQR01HAejX",
        "outputId": "4ed2f147-c8e2-44d7-a649-c7f769fb0513"
      },
      "source": [
        "!pip install -Uqq fastbook\n",
        "import fastbook\n",
        "fastbook.setup_book()"
      ],
      "execution_count": 2,
      "outputs": [
        {
          "output_type": "stream",
          "text": [
            "\u001b[K     |████████████████████████████████| 727kB 8.9MB/s \n",
            "\u001b[K     |████████████████████████████████| 194kB 19.5MB/s \n",
            "\u001b[K     |████████████████████████████████| 1.1MB 19.5MB/s \n",
            "\u001b[K     |████████████████████████████████| 51kB 6.5MB/s \n",
            "\u001b[K     |████████████████████████████████| 61kB 7.1MB/s \n",
            "\u001b[?25hMounted at /content/gdrive\n"
          ],
          "name": "stdout"
        }
      ]
    },
    {
      "cell_type": "code",
      "metadata": {
        "id": "fCGYSTkxAppH"
      },
      "source": [
        "from fastbook import *\n",
        "from fastai.vision.widgets import *"
      ],
      "execution_count": 3,
      "outputs": []
    },
    {
      "cell_type": "code",
      "metadata": {
        "colab": {
          "base_uri": "https://localhost:8080/"
        },
        "id": "nLykAPKWhQVR",
        "outputId": "95cca887-d8dc-474c-b76b-5ca3dd8aa9f2"
      },
      "source": [
        "#base_path = '/content/gdrive/My Drive/Donnees/'\n",
        "#path = Path(base_path + 'pictures/dinghy')\n",
        "path = Path() # Pour pusher sur github, je vais placer le modèle à côté du notebook\n",
        "\n",
        "# Displaying model files in the folder:\n",
        "path.ls(file_exts='.pkl')"
      ],
      "execution_count": 4,
      "outputs": [
        {
          "output_type": "execute_result",
          "data": {
            "text/plain": [
              "(#1) [Path('/content/gdrive/My Drive/Donnees/pictures/dinghy/dinghy-model.pkl')]"
            ]
          },
          "metadata": {
            "tags": []
          },
          "execution_count": 4
        }
      ]
    },
    {
      "cell_type": "code",
      "metadata": {
        "id": "LH25xVw3iTE7",
        "colab": {
          "base_uri": "https://localhost:8080/"
        },
        "outputId": "831c248c-5df5-430a-ce3c-2789457299a4"
      },
      "source": [
        "learn_inf = load_learner(path/'dinghy-model.pkl')\n",
        "learn_inf.dls.vocab"
      ],
      "execution_count": 5,
      "outputs": [
        {
          "output_type": "execute_result",
          "data": {
            "text/plain": [
              "['29ER', '49ER', 'MUSTO SKIFF', 'RS500', 'RS700']"
            ]
          },
          "metadata": {
            "tags": []
          },
          "execution_count": 5
        }
      ]
    },
    {
      "cell_type": "code",
      "metadata": {
        "id": "m4UF5q2vrHvs",
        "colab": {
          "base_uri": "https://localhost:8080/",
          "height": 316,
          "referenced_widgets": [
            "330bf98ff92041a8ac05696a6aec69fd",
            "a75032954400495ea7ddc29b53edb481",
            "ad1cdd8c09894f38b868151070c47745",
            "2aca172bd7db453e897a6366eefeeddc",
            "e9720ff1a949478ea0e4df08a4ba33c6",
            "81ba5b09df4d4544be60eef21e444eea",
            "0ea0cdc8243f47908552c6359060bfcd",
            "e2d123d666aa450e979600f87af5c3dc",
            "e7cd0bff76574d48abc39f04dd760b28",
            "70e00ed5970749fe824b6def47bcd9d6",
            "d3963d6b08944e758d946510fab8088a",
            "3f1cf744430e4ec4b1140084b93d4d1f",
            "7b716aad9d574995b34c91bbe93935d5",
            "b593dc82f26b49f3be89909a8fffc8d9",
            "817b9a0a66b4447c8d7eb7dcd7dfda8b",
            "fa7c3dd8dc5843b9b04a528b502712ed"
          ]
        },
        "outputId": "b43a7b17-53f5-4001-c5c9-6977edfc441d"
      },
      "source": [
        "# UI\n",
        "btn_upload = widgets.FileUpload()\n",
        "btn_run = widgets.Button(description='Classify')\n",
        "lbl_pred = widgets.Label()\n",
        "out_pl = widgets.Output()\n",
        "\n",
        "def on_click_classify(change):\n",
        "    img = PILImage.create(btn_upload.data[-1])\n",
        "    out_pl.clear_output()\n",
        "    with out_pl: display(img.to_thumb(256,256))\n",
        "    pred,pred_idx,probs = learn_inf.predict(img)\n",
        "    lbl_pred.value = f'Prediction: {pred}; Probability: {probs[pred_idx]:.03f}'\n",
        "\n",
        "btn_run.on_click(on_click_classify)\n",
        "\n",
        "VBox([widgets.Label('Select your dinghy'), \n",
        "      btn_upload, btn_run, out_pl, lbl_pred])"
      ],
      "execution_count": 6,
      "outputs": [
        {
          "output_type": "display_data",
          "data": {
            "application/vnd.jupyter.widget-view+json": {
              "model_id": "330bf98ff92041a8ac05696a6aec69fd",
              "version_minor": 0,
              "version_major": 2
            },
            "text/plain": [
              "VBox(children=(Label(value='Select your dinghy'), FileUpload(value={}, description='Upload'), Button(descripti…"
            ]
          },
          "metadata": {
            "tags": []
          }
        },
        {
          "output_type": "display_data",
          "data": {
            "text/html": [
              ""
            ],
            "text/plain": [
              "<IPython.core.display.HTML object>"
            ]
          },
          "metadata": {
            "tags": []
          }
        }
      ]
    },
    {
      "cell_type": "code",
      "metadata": {
        "id": "qiMWqsMVrwaS"
      },
      "source": [
        "# voila ne marche pas depuis collab (à confirmer)\n",
        "!pip install voila\n",
        "!jupyter serverextension enable --sys-prefix voila"
      ],
      "execution_count": 7,
      "outputs": []
    }
  ]
}